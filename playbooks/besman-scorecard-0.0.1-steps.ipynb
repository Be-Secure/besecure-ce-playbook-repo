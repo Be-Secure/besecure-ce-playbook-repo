{
 "cells": [
  {
   "cell_type": "markdown",
   "id": "b5f74fb8-2435-4706-b36c-771f34038a5b",
   "metadata": {},
   "source": [
    "# Steps to perform Scorecard Analysis using GitHub actions"
   ]
  },
  {
   "cell_type": "markdown",
   "id": "eca0f75a-9d43-4733-a368-e4ca96611a3b",
   "metadata": {},
   "source": [
    "## For GitHub platform\n",
    "\n",
    "Make sure you have push access to the repo."
   ]
  },
  {
   "cell_type": "markdown",
   "id": "d64f503c-a761-4f2f-b5f3-79ee01c91c3a",
   "metadata": {},
   "source": [
    "### Move into project dir"
   ]
  },
  {
   "cell_type": "code",
   "execution_count": null,
   "id": "e11378bc-8e5e-452f-a6f6-6cedc0d38436",
   "metadata": {},
   "outputs": [],
   "source": [
    "!cd $BESMAN_ARTIFACT_DIR"
   ]
  },
  {
   "cell_type": "markdown",
   "id": "f0512dce-0bc8-4d69-b1e3-88c090efaeaf",
   "metadata": {},
   "source": [
    "### Change the default branch\n",
    "\n",
    "Currently, Scorecard works with default branches. So you have to make the branch on which you have to perform the analysis as default"
   ]
  },
  {
   "cell_type": "markdown",
   "id": "52723a01-6913-47fa-b2ec-7687d86b4400",
   "metadata": {},
   "source": [
    "### Create dir"
   ]
  },
  {
   "cell_type": "code",
   "execution_count": null,
   "id": "d14f850c-3871-46c5-a89d-a69d77c0b51e",
   "metadata": {},
   "outputs": [],
   "source": [
    "!mkdir -p $BESMAN_ARTIFACT_DIR/.github/workflows"
   ]
  },
  {
   "cell_type": "markdown",
   "id": "5c879f3b-38dc-43e5-8473-74ac324b17a0",
   "metadata": {},
   "source": [
    "### Add workflow file"
   ]
  },
  {
   "cell_type": "code",
   "execution_count": null,
   "id": "d850e8a4-4db6-4b6c-809e-a11b3dac0d2d",
   "metadata": {},
   "outputs": [],
   "source": [
    "!touch $BESMAN_ARTIFACT_DIR/.github/workflows/scorecard.yml\n",
    "!cat <<EOF> $BESMAN_ARTIFACT_DIR/.github/workflows/scorecard.yml\n",
    "# This workflow uses actions that are not certified by GitHub. They are provided\n",
    "# by a third-party and are governed by separate terms of service, privacy\n",
    "# policy, and support documentation.\n",
    "\n",
    "name: Scorecard supply-chain security\n",
    "on:\n",
    "  # For Branch-Protection check. Only the default branch is supported. See\n",
    "  # https://github.com/ossf/scorecard/blob/main/docs/checks.md#branch-protection\n",
    "  branch_protection_rule:\n",
    "  # To guarantee Maintained check is occasionally updated. See\n",
    "  # https://github.com/ossf/scorecard/blob/main/docs/checks.md#maintained\n",
    "  schedule:\n",
    "    - cron: '17 16 * * 1'\n",
    "  push:\n",
    "    branches: [ \"BRANCH_NAME\" ]\n",
    "\n",
    "# Declare default permissions as read only.\n",
    "permissions: read-all\n",
    "\n",
    "jobs:\n",
    "  analysis:\n",
    "    name: Scorecard analysis\n",
    "    runs-on: ubuntu-latest\n",
    "    permissions:\n",
    "      # Needed to upload the results to code-scanning dashboard.\n",
    "      security-events: write\n",
    "      # Needed to publish results and get a badge (see publish_results below).\n",
    "      id-token: write\n",
    "      # Uncomment the permissions below if installing in a private repository.\n",
    "      # contents: read\n",
    "      # actions: read\n",
    "\n",
    "    steps:\n",
    "      - name: \"Checkout code\"\n",
    "        uses: actions/checkout@b4ffde65f46336ab88eb53be808477a3936bae11 # v4.1.1\n",
    "        with:\n",
    "          persist-credentials: false\n",
    "\n",
    "      - name: \"Run analysis\"\n",
    "        uses: ossf/scorecard-action@0864cf19026789058feabb7e87baa5f140aac736 # v2.3.1\n",
    "        with:\n",
    "          results_file: results.sarif\n",
    "          results_format: sarif\n",
    "          # (Optional) \"write\" PAT token. Uncomment the `repo_token` line below if:\n",
    "          # - you want to enable the Branch-Protection check on a *public* repository, or\n",
    "          # - you are installing Scorecard on a *private* repository\n",
    "          # To create the PAT, follow the steps in https://github.com/ossf/scorecard-action?tab=readme-ov-file#authentication-with-fine-grained-pat-optional.\n",
    "          # repo_token: ${{ secrets.SCORECARD_TOKEN }}\n",
    "\n",
    "          # Public repositories:\n",
    "          #   - Publish results to OpenSSF REST API for easy access by consumers\n",
    "          #   - Allows the repository to include the Scorecard badge.\n",
    "          #   - See https://github.com/ossf/scorecard-action#publishing-results.\n",
    "          # For private repositories:\n",
    "          #   - `publish_results` will always be set to `false`, regardless\n",
    "          #     of the value entered here.\n",
    "          publish_results: true\n",
    "\n",
    "      # Upload the results as artifacts (optional). Commenting out will disable uploads of run results in SARIF\n",
    "      # format to the repository Actions tab.\n",
    "      - name: \"Upload artifact\"\n",
    "        uses: actions/upload-artifact@97a0fba1372883ab732affbe8f94b823f91727db # v3.pre.node20\n",
    "        with:\n",
    "          name: SARIF file\n",
    "          path: results.sarif\n",
    "          retention-days: 5\n",
    "\n",
    "      # Upload the results to GitHub's code scanning dashboard (optional).\n",
    "      # Commenting out will disable upload of results to your repo's Code Scanning dashboard\n",
    "      - name: \"Upload to code-scanning\"\n",
    "        uses: github/codeql-action/upload-sarif@1b1aada464948af03b950897e5eb522f92603cc2 # v3.24.9\n",
    "        with:\n",
    "          sarif_file: results.sarif\n",
    "EOF\n"
   ]
  },
  {
   "cell_type": "code",
   "execution_count": 3,
   "id": "ef2f5116-4a6c-44dd-90be-bde51e670318",
   "metadata": {},
   "outputs": [],
   "source": [
    "!git add .\n",
    "!git commit -m \"Added scorecard\"\n",
    "!git push origin <branch name>"
   ]
  },
  {
   "cell_type": "code",
   "execution_count": null,
   "id": "6a819790-fdf8-41ba-9526-f789d5169241",
   "metadata": {},
   "outputs": [],
   "source": []
  }
 ],
 "metadata": {
  "kernelspec": {
   "display_name": "Python 3 (ipykernel)",
   "language": "python",
   "name": "python3"
  },
  "language_info": {
   "codemirror_mode": {
    "name": "ipython",
    "version": 3
   },
   "file_extension": ".py",
   "mimetype": "text/x-python",
   "name": "python",
   "nbconvert_exporter": "python",
   "pygments_lexer": "ipython3",
   "version": "3.10.12"
  }
 },
 "nbformat": 4,
 "nbformat_minor": 5
}
