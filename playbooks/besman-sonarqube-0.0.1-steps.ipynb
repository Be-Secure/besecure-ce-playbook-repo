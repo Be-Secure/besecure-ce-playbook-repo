{
 "cells": [
  {
   "cell_type": "markdown",
   "metadata": {},
   "source": [
    "# Steps to perform SAST using Sonarqube"
   ]
  },
  {
   "cell_type": "markdown",
   "metadata": {},
   "source": [
    "## Check if Sonarqube is up"
   ]
  },
  {
   "cell_type": "code",
   "execution_count": null,
   "metadata": {},
   "outputs": [],
   "source": [
    "!docker ps | grep sonarqube"
   ]
  },
  {
   "cell_type": "markdown",
   "metadata": {},
   "source": [
    "## Start the container if not available"
   ]
  },
  {
   "cell_type": "code",
   "execution_count": null,
   "metadata": {},
   "outputs": [],
   "source": [
    "!docker run -d --name sonarqube -p 9000:9000 sonarqube"
   ]
  },
  {
   "cell_type": "markdown",
   "metadata": {},
   "source": [
    "## Setting variables"
   ]
  },
  {
   "cell_type": "code",
   "execution_count": null,
   "metadata": {},
   "outputs": [],
   "source": [
    "%env SONARQUBE_URL= ###### Paste the url to your sonarqube server here\n",
    "%env USERNAME= ###### Paste the username here\n",
    "%env PASSWORD= ###### Paste your password here\n",
    "%env YOUR_PROJECT_KEY= ##### Enter the project key (can be the same as project name)\n",
    "%env YOUR_PROJECT_NAME= ###### Enter your project name"
   ]
  },
  {
   "cell_type": "markdown",
   "metadata": {},
   "source": [
    "## Creating user token\n",
    "\n",
    "This token wil be used across multiple projects"
   ]
  },
  {
   "cell_type": "code",
   "execution_count": null,
   "metadata": {},
   "outputs": [],
   "source": [
    "# API_ENDPOINT=\"$SONARQUBE_URL/api/user_tokens/generate\"\n",
    "!curl -u $USERNAME:$PASSWORD -X POST $SONARQUBE_URL/api/user_tokens/generate -d name=automation_token > /tmp/sonar.json\n",
    "!jq -r '.token' /tmp/sonar.json > /tmp/token.txt\n",
    "TOKEN = open('/tmp/token.txt', 'r').read()\n",
    "%env TOKEN=$TOKEN\n",
    "!rm /tmp/token.txt /tmp/sonar.json"
   ]
  },
  {
   "cell_type": "markdown",
   "metadata": {},
   "source": [
    "## Create project\n",
    "\n",
    "The command below will create a new project using the main branch. If you require a different branch, please visit the sonarqube server page and create the project manually."
   ]
  },
  {
   "cell_type": "code",
   "execution_count": null,
   "metadata": {},
   "outputs": [],
   "source": [
    "!curl -u \"$USERNAME\":\"$PASSWORD\" -X POST \"$SONARQUBE_URL/api/projects/create?name=$YOUR_PROJECT_NAME&project=$YOUR_PROJECT_KEY"
   ]
  },
  {
   "cell_type": "markdown",
   "metadata": {},
   "source": [
    "## Run Scan\n",
    "Move to your project directory to perform the scan"
   ]
  },
  {
   "cell_type": "markdown",
   "metadata": {},
   "source": [
    "### For maven builds"
   ]
  },
  {
   "cell_type": "code",
   "execution_count": null,
   "metadata": {
    "scrolled": true
   },
   "outputs": [],
   "source": [
    "%cd \"$BESMAN_ARTIFACT_DIR\"\n",
    "!mvn clean verify sonar:sonar -Dsonar.projectKey=\"$YOUR_PROJECT_KEY\" -Dsonar.projectName=\"$YOUR_PROJECT_NAME\" -Dsonar.host.url=\"$SONARQUBE_URL\" -Dsonar.login=\"$TOKEN\"\n",
    "%cd -"
   ]
  },
  {
   "cell_type": "markdown",
   "metadata": {},
   "source": [
    "### For gradle builds\n",
    "\n",
    "Running an analysis with Gradle is straighforward. You just need to declare the `org.sonarqube` plugin in your `build.gradle` or `build.gradle.kts` file:\n",
    "\n",
    "**build.gradle**\n",
    "```json\n",
    "plugins {\n",
    "  id \"org.sonarqube\" version \"5.0.0.4638\"\n",
    "}\n",
    "```\n",
    "\n",
    "**build.gradle.kts**\n",
    "\n",
    "```json\n",
    "plugins {\n",
    "  id(\"org.sonarqube\") version \"5.0.0.4638\"\n",
    "}\n",
    "```\n"
   ]
  },
  {
   "cell_type": "code",
   "execution_count": null,
   "metadata": {},
   "outputs": [],
   "source": [
    "%cd \"$BESMAN_ARTIFACT_DIR\"\n",
    "!ls\n",
    "!./gradlew sonar -Dsonar.projectKey=\"$YOUR_PROJECT_KEY\" -Dsonar.projectName='$YOUR_PROJECT_NAME' -Dsonar.host.url=\"$SONARQUBE_URL\" -Dsonar.token=\"$TOKEN\""
   ]
  },
  {
   "cell_type": "markdown",
   "metadata": {},
   "source": [
    "### For others(JS, TS, Go, Python, PHP)"
   ]
  },
  {
   "cell_type": "code",
   "execution_count": null,
   "metadata": {},
   "outputs": [],
   "source": [
    "!sonar-scanner -Dsonar.projectKey=\"$YOUR_PROJECT_KEY\" -Dsonar.sources=. -Dsonar.host.url=\"$SONARQUBE_URL\" -Dsonar.token=\"$TOKEN\""
   ]
  },
  {
   "cell_type": "markdown",
   "metadata": {},
   "source": [
    "## View Report\n",
    "\n",
    "Once the assessment is done, you can visit the Sonarqube server and see your project scan report"
   ]
  },
  {
   "cell_type": "markdown",
   "metadata": {},
   "source": [
    "## Download Report"
   ]
  },
  {
   "cell_type": "code",
   "execution_count": null,
   "metadata": {},
   "outputs": [],
   "source": [
    "!curl -u \"$USERNAME\":\"$PASSWORD\" -X GET $SONARQUBE_URL/api/issues/search?componentKeys=$YOUR_PROJECT_NAME >> $BESMAN_DETAILED_REPOR_PATH"
   ]
  },
  {
   "cell_type": "code",
   "execution_count": null,
   "metadata": {},
   "outputs": [],
   "source": []
  }
 ],
 "metadata": {
  "kernelspec": {
   "display_name": "Python 3 (ipykernel)",
   "language": "python",
   "name": "python3"
  },
  "language_info": {
   "codemirror_mode": {
    "name": "ipython",
    "version": 3
   },
   "file_extension": ".py",
   "mimetype": "text/x-python",
   "name": "python",
   "nbconvert_exporter": "python",
   "pygments_lexer": "ipython3",
   "version": "3.10.12"
  }
 },
 "nbformat": 4,
 "nbformat_minor": 4
}
