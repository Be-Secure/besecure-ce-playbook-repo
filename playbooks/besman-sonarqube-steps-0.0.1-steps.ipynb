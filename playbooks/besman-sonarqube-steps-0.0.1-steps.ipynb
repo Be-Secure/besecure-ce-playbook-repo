{
 "cells": [
  {
   "cell_type": "code",
   "execution_count": 1,
   "metadata": {},
   "outputs": [
    {
     "name": "stdout",
     "output_type": "stream",
     "text": [
      "Docker version 24.0.5, build 24.0.5-0ubuntu1~22.04.1\n"
     ]
    }
   ],
   "source": [
    "!docker --version"
   ]
  },
  {
   "cell_type": "code",
   "execution_count": null,
   "metadata": {},
   "outputs": [],
   "source": []
  },
  {
   "cell_type": "code",
   "execution_count": 3,
   "metadata": {},
   "outputs": [],
   "source": [
    "!docker ps | grep sonarqube"
   ]
  },
  {
   "cell_type": "markdown",
   "metadata": {},
   "source": [
    "## Run sonarqube"
   ]
  },
  {
   "cell_type": "code",
   "execution_count": null,
   "metadata": {},
   "outputs": [],
   "source": [
    "!docker run -d --name sonarqube -p 9000:9000 sonarqube"
   ]
  },
  {
   "cell_type": "markdown",
   "metadata": {},
   "source": [
    "## Setting variables"
   ]
  },
  {
   "cell_type": "code",
   "execution_count": 94,
   "metadata": {},
   "outputs": [
    {
     "name": "stdout",
     "output_type": "stream",
     "text": [
      "env: SONARQUBE_URL=http://localhost:9000\n",
      "env: USERNAME=admin\n",
      "env: PASSWORD=sonar\n",
      "env: YOUR_PROJECT_KEY=fastjson\n",
      "env: YOUR_PROJECT_NAME=fastjson\n",
      "env: YOUR_PROJECT_BRANCH=\"branch_1.2.24\"\n"
     ]
    }
   ],
   "source": [
    "%env SONARQUBE_URL=http://localhost:9000\n",
    "%env USERNAME=admin\n",
    "%env PASSWORD=sonar\n",
    "%env YOUR_PROJECT_KEY=fastjson\n",
    "%env YOUR_PROJECT_NAME=fastjson\n",
    "%env YOUR_PROJECT_BRANCH=\"branch_1.2.24\""
   ]
  },
  {
   "cell_type": "markdown",
   "metadata": {},
   "source": [
    "## Creating user token"
   ]
  },
  {
   "cell_type": "code",
   "execution_count": 67,
   "metadata": {},
   "outputs": [
    {
     "name": "stdout",
     "output_type": "stream",
     "text": [
      "  % Total    % Received % Xferd  Average Speed   Time    Time     Time  Current\n",
      "                                 Dload  Upload   Total   Spent    Left  Speed\n",
      "100   178    0   157  100    21    631     84 --:--:-- --:--:-- --:--:--   717\n"
     ]
    }
   ],
   "source": [
    "API_ENDPOINT=\"$SONARQUBE_URL/api/user_tokens/generate\"\n",
    "!curl -u $USERNAME:$PASSWORD -X POST $API_ENDPOINT -d name=automation_token > sonar.json\n",
    "!jq -r '.token' sonar.json > token.txt\n",
    "TOKEN = open('token.txt', 'r').read()\n",
    "%env TOKEN=$TOKEN\n",
    "!rm token.txt sonar.json"
   ]
  },
  {
   "cell_type": "code",
   "execution_count": 121,
   "metadata": {},
   "outputs": [
    {
     "name": "stdout",
     "output_type": "stream",
     "text": [
      "squ_6427907900e64e54ec4daf52a372252ee9a873c1\n"
     ]
    }
   ],
   "source": [
    "!echo $TOKEN"
   ]
  },
  {
   "cell_type": "markdown",
   "metadata": {},
   "source": [
    "## Create project"
   ]
  },
  {
   "cell_type": "code",
   "execution_count": 95,
   "metadata": {},
   "outputs": [
    {
     "name": "stdout",
     "output_type": "stream",
     "text": [
      "{\"project\":{\"key\":\"fastjson\",\"name\":\"fastjson\",\"qualifier\":\"TRK\",\"visibility\":\"public\"}}"
     ]
    }
   ],
   "source": [
    "!curl -u \"$USERNAME\":\"$PASSWORD\" -X POST \"$SONARQUBE_URL/api/projects/create?name=$YOUR_PROJECT_NAME&project=$YOUR_PROJECT_KEY&branch=$YOUR_PROJECT_BRANCH\""
   ]
  },
  {
   "cell_type": "markdown",
   "metadata": {},
   "source": [
    "## Change directory"
   ]
  },
  {
   "cell_type": "code",
   "execution_count": 117,
   "metadata": {},
   "outputs": [
    {
     "name": "stdout",
     "output_type": "stream",
     "text": [
      "env: BESMAN_ARTIFACT_DIR=\"/home/arunsuresh/fastjson\"\n"
     ]
    }
   ],
   "source": [
    "%env BESMAN_ARTIFACT_DIR=\"/home/arunsuresh/fastjson\""
   ]
  },
  {
   "cell_type": "markdown",
   "metadata": {},
   "source": [
    "## Run Scan\n",
    "Move to your project directory to perform the scan"
   ]
  },
  {
   "cell_type": "markdown",
   "metadata": {},
   "source": [
    "### For maven builds"
   ]
  },
  {
   "cell_type": "markdown",
   "metadata": {},
   "source": [
    "%env BESMAN_ARTIFACT_DIR=\"/home/arunsuresh/fastjson\"\n",
    "!echo \"BESMAN_ARTIFACT_DIR=$BESMAN_ARTIFACT_DIR\"\n",
    "%cd \"$BESMAN_ARTIFACT_DIR\"\n",
    "!ls\n",
    "<!-- !mvn clean verify sonar:sonar -Dsonar.projectKey=\"$YOUR_PROJECT_KEY\" -Dsonar.projectName=\"$YOUR_PROJECT_NAME\" -Dsonar.host.url=\"$SONARQUBE_URL\" -Dsonar.login=\"$TOKEN\" -->\n",
    "!mvn clean install\n",
    "!\n",
    "%cd -"
   ]
  },
  {
   "cell_type": "markdown",
   "metadata": {},
   "source": [
    "### For gradle builds\n",
    "\n",
    "Running an analysis with Gradle is straighforward. You just need to declare the `org.sonarqube` plugin in your `build.gradle` or `build.gradle.kts` file:\n",
    "\n",
    "**build.gradle**\n",
    "```json\n",
    "plugins {\n",
    "  id \"org.sonarqube\" version \"5.0.0.4638\"\n",
    "}\n",
    "```\n",
    "\n",
    "**build.gradle.kts**\n",
    "\n",
    "```json\n",
    "plugins {\n",
    "  id(\"org.sonarqube\") version \"5.0.0.4638\"\n",
    "}\n",
    "```\n"
   ]
  },
  {
   "cell_type": "code",
   "execution_count": null,
   "metadata": {},
   "outputs": [],
   "source": [
    "%cd \"$BESMAN_ARTIFACT_DIR\"\n",
    "!ls\n",
    "!./gradlew sonar -Dsonar.projectKey=\"$YOUR_PROJECT_KEY\" -Dsonar.projectName='$YOUR_PROJECT_NAME' -Dsonar.host.url=\"$SONARQUBE_URL\" -Dsonar.token=\"$TOKEN\""
   ]
  },
  {
   "cell_type": "markdown",
   "metadata": {},
   "source": [
    "### For others(JS, TS, Go, Python, PHP)"
   ]
  },
  {
   "cell_type": "code",
   "execution_count": null,
   "metadata": {},
   "outputs": [],
   "source": [
    "!sonar-scanner -Dsonar.projectKey=\"$YOUR_PROJECT_KEY\" -Dsonar.sources=. -Dsonar.host.url=\"$SONARQUBE_URL\" -Dsonar.token=\"$TOKEN\""
   ]
  }
 ],
 "metadata": {
  "kernelspec": {
   "display_name": "Python 3 (ipykernel)",
   "language": "python",
   "name": "python3"
  },
  "language_info": {
   "codemirror_mode": {
    "name": "ipython",
    "version": 3
   },
   "file_extension": ".py",
   "mimetype": "text/x-python",
   "name": "python",
   "nbconvert_exporter": "python",
   "pygments_lexer": "ipython3",
   "version": "3.10.12"
  }
 },
 "nbformat": 4,
 "nbformat_minor": 4
}
